{
 "cells": [
  {
   "cell_type": "markdown",
   "metadata": {
    "id": "H9wADwK78DCz"
   },
   "source": [
    "# Proyek Analisis Data: Bike-Sharing-Dataset\n",
    "- **Nama:** Annisa Fitrana\n",
    "- **Email:** 03.annisafitriana@gmail.com\n",
    "- **ID Dicoding:** MS060D5X0565"
   ]
  },
  {
   "cell_type": "markdown",
   "metadata": {
    "id": "eE0raob58DC0"
   },
   "source": [
    "## Menentukan Pertanyaan Bisnis"
   ]
  },
  {
   "cell_type": "markdown",
   "metadata": {
    "id": "GmQeQ5YF8DC0"
   },
   "source": [
    "- Bagaimana rata rata penyewaan sepeda setiap bulannya?\n",
    "- Pada musim apa penyewaan sepeda paling banyak?\n",
    "- Apakah penyewaan sepeda lebih tinggi pada hari kerja atau akhir pekan?"
   ]
  },
  {
   "cell_type": "markdown",
   "metadata": {
    "id": "H-z4QGlO8DC1"
   },
   "source": [
    "## Import Semua Packages/Library yang Digunakan"
   ]
  },
  {
   "cell_type": "code",
   "execution_count": 1,
   "metadata": {
    "id": "FVYwaObI8DC1"
   },
   "outputs": [],
   "source": [
    "import pandas as pd\n",
    "import numpy as np\n",
    "import matplotlib.pyplot as plt\n",
    "import seaborn as sns\n",
    "import streamlit as st\n"
   ]
  },
  {
   "cell_type": "markdown",
   "metadata": {
    "id": "h_Sh51Xy8DC1"
   },
   "source": [
    "## Data Wrangling"
   ]
  },
  {
   "cell_type": "markdown",
   "metadata": {
    "id": "sXU2GBYu8DC1"
   },
   "source": [
    "### Gathering Data"
   ]
  },
  {
   "cell_type": "code",
   "execution_count": 3,
   "metadata": {
    "id": "zjCBk1BI8DC1"
   },
   "outputs": [
    {
     "data": {
      "text/html": [
       "<div>\n",
       "<style scoped>\n",
       "    .dataframe tbody tr th:only-of-type {\n",
       "        vertical-align: middle;\n",
       "    }\n",
       "\n",
       "    .dataframe tbody tr th {\n",
       "        vertical-align: top;\n",
       "    }\n",
       "\n",
       "    .dataframe thead th {\n",
       "        text-align: right;\n",
       "    }\n",
       "</style>\n",
       "<table border=\"1\" class=\"dataframe\">\n",
       "  <thead>\n",
       "    <tr style=\"text-align: right;\">\n",
       "      <th></th>\n",
       "      <th>instant</th>\n",
       "      <th>dteday</th>\n",
       "      <th>season</th>\n",
       "      <th>yr</th>\n",
       "      <th>mnth</th>\n",
       "      <th>holiday</th>\n",
       "      <th>weekday</th>\n",
       "      <th>workingday</th>\n",
       "      <th>weathersit</th>\n",
       "      <th>temp</th>\n",
       "      <th>atemp</th>\n",
       "      <th>hum</th>\n",
       "      <th>windspeed</th>\n",
       "      <th>casual</th>\n",
       "      <th>registered</th>\n",
       "      <th>cnt</th>\n",
       "    </tr>\n",
       "  </thead>\n",
       "  <tbody>\n",
       "    <tr>\n",
       "      <th>0</th>\n",
       "      <td>1</td>\n",
       "      <td>2011-01-01</td>\n",
       "      <td>1</td>\n",
       "      <td>0</td>\n",
       "      <td>1</td>\n",
       "      <td>0</td>\n",
       "      <td>6</td>\n",
       "      <td>0</td>\n",
       "      <td>2</td>\n",
       "      <td>0.344167</td>\n",
       "      <td>0.363625</td>\n",
       "      <td>0.805833</td>\n",
       "      <td>0.160446</td>\n",
       "      <td>331</td>\n",
       "      <td>654</td>\n",
       "      <td>985</td>\n",
       "    </tr>\n",
       "    <tr>\n",
       "      <th>1</th>\n",
       "      <td>2</td>\n",
       "      <td>2011-01-02</td>\n",
       "      <td>1</td>\n",
       "      <td>0</td>\n",
       "      <td>1</td>\n",
       "      <td>0</td>\n",
       "      <td>0</td>\n",
       "      <td>0</td>\n",
       "      <td>2</td>\n",
       "      <td>0.363478</td>\n",
       "      <td>0.353739</td>\n",
       "      <td>0.696087</td>\n",
       "      <td>0.248539</td>\n",
       "      <td>131</td>\n",
       "      <td>670</td>\n",
       "      <td>801</td>\n",
       "    </tr>\n",
       "    <tr>\n",
       "      <th>2</th>\n",
       "      <td>3</td>\n",
       "      <td>2011-01-03</td>\n",
       "      <td>1</td>\n",
       "      <td>0</td>\n",
       "      <td>1</td>\n",
       "      <td>0</td>\n",
       "      <td>1</td>\n",
       "      <td>1</td>\n",
       "      <td>1</td>\n",
       "      <td>0.196364</td>\n",
       "      <td>0.189405</td>\n",
       "      <td>0.437273</td>\n",
       "      <td>0.248309</td>\n",
       "      <td>120</td>\n",
       "      <td>1229</td>\n",
       "      <td>1349</td>\n",
       "    </tr>\n",
       "    <tr>\n",
       "      <th>3</th>\n",
       "      <td>4</td>\n",
       "      <td>2011-01-04</td>\n",
       "      <td>1</td>\n",
       "      <td>0</td>\n",
       "      <td>1</td>\n",
       "      <td>0</td>\n",
       "      <td>2</td>\n",
       "      <td>1</td>\n",
       "      <td>1</td>\n",
       "      <td>0.200000</td>\n",
       "      <td>0.212122</td>\n",
       "      <td>0.590435</td>\n",
       "      <td>0.160296</td>\n",
       "      <td>108</td>\n",
       "      <td>1454</td>\n",
       "      <td>1562</td>\n",
       "    </tr>\n",
       "    <tr>\n",
       "      <th>4</th>\n",
       "      <td>5</td>\n",
       "      <td>2011-01-05</td>\n",
       "      <td>1</td>\n",
       "      <td>0</td>\n",
       "      <td>1</td>\n",
       "      <td>0</td>\n",
       "      <td>3</td>\n",
       "      <td>1</td>\n",
       "      <td>1</td>\n",
       "      <td>0.226957</td>\n",
       "      <td>0.229270</td>\n",
       "      <td>0.436957</td>\n",
       "      <td>0.186900</td>\n",
       "      <td>82</td>\n",
       "      <td>1518</td>\n",
       "      <td>1600</td>\n",
       "    </tr>\n",
       "  </tbody>\n",
       "</table>\n",
       "</div>"
      ],
      "text/plain": [
       "   instant      dteday  season  yr  mnth  holiday  weekday  workingday  \\\n",
       "0        1  2011-01-01       1   0     1        0        6           0   \n",
       "1        2  2011-01-02       1   0     1        0        0           0   \n",
       "2        3  2011-01-03       1   0     1        0        1           1   \n",
       "3        4  2011-01-04       1   0     1        0        2           1   \n",
       "4        5  2011-01-05       1   0     1        0        3           1   \n",
       "\n",
       "   weathersit      temp     atemp       hum  windspeed  casual  registered  \\\n",
       "0           2  0.344167  0.363625  0.805833   0.160446     331         654   \n",
       "1           2  0.363478  0.353739  0.696087   0.248539     131         670   \n",
       "2           1  0.196364  0.189405  0.437273   0.248309     120        1229   \n",
       "3           1  0.200000  0.212122  0.590435   0.160296     108        1454   \n",
       "4           1  0.226957  0.229270  0.436957   0.186900      82        1518   \n",
       "\n",
       "    cnt  \n",
       "0   985  \n",
       "1   801  \n",
       "2  1349  \n",
       "3  1562  \n",
       "4  1600  "
      ]
     },
     "execution_count": 3,
     "metadata": {},
     "output_type": "execute_result"
    }
   ],
   "source": [
    "import pandas as pd\n",
    "\n",
    "data = pd.read_csv(\"./data/day.csv\")\n",
    "data.head()"
   ]
  },
  {
   "cell_type": "code",
   "execution_count": 4,
   "metadata": {
    "id": "S59WTdbNpM5j"
   },
   "outputs": [
    {
     "data": {
      "text/html": [
       "<div>\n",
       "<style scoped>\n",
       "    .dataframe tbody tr th:only-of-type {\n",
       "        vertical-align: middle;\n",
       "    }\n",
       "\n",
       "    .dataframe tbody tr th {\n",
       "        vertical-align: top;\n",
       "    }\n",
       "\n",
       "    .dataframe thead th {\n",
       "        text-align: right;\n",
       "    }\n",
       "</style>\n",
       "<table border=\"1\" class=\"dataframe\">\n",
       "  <thead>\n",
       "    <tr style=\"text-align: right;\">\n",
       "      <th></th>\n",
       "      <th>instant</th>\n",
       "      <th>dteday</th>\n",
       "      <th>season</th>\n",
       "      <th>yr</th>\n",
       "      <th>mnth</th>\n",
       "      <th>hr</th>\n",
       "      <th>holiday</th>\n",
       "      <th>weekday</th>\n",
       "      <th>workingday</th>\n",
       "      <th>weathersit</th>\n",
       "      <th>temp</th>\n",
       "      <th>atemp</th>\n",
       "      <th>hum</th>\n",
       "      <th>windspeed</th>\n",
       "      <th>casual</th>\n",
       "      <th>registered</th>\n",
       "      <th>cnt</th>\n",
       "    </tr>\n",
       "  </thead>\n",
       "  <tbody>\n",
       "    <tr>\n",
       "      <th>0</th>\n",
       "      <td>1</td>\n",
       "      <td>2011-01-01</td>\n",
       "      <td>1</td>\n",
       "      <td>0</td>\n",
       "      <td>1</td>\n",
       "      <td>0</td>\n",
       "      <td>0</td>\n",
       "      <td>6</td>\n",
       "      <td>0</td>\n",
       "      <td>1</td>\n",
       "      <td>0.24</td>\n",
       "      <td>0.2879</td>\n",
       "      <td>0.81</td>\n",
       "      <td>0.0</td>\n",
       "      <td>3</td>\n",
       "      <td>13</td>\n",
       "      <td>16</td>\n",
       "    </tr>\n",
       "    <tr>\n",
       "      <th>1</th>\n",
       "      <td>2</td>\n",
       "      <td>2011-01-01</td>\n",
       "      <td>1</td>\n",
       "      <td>0</td>\n",
       "      <td>1</td>\n",
       "      <td>1</td>\n",
       "      <td>0</td>\n",
       "      <td>6</td>\n",
       "      <td>0</td>\n",
       "      <td>1</td>\n",
       "      <td>0.22</td>\n",
       "      <td>0.2727</td>\n",
       "      <td>0.80</td>\n",
       "      <td>0.0</td>\n",
       "      <td>8</td>\n",
       "      <td>32</td>\n",
       "      <td>40</td>\n",
       "    </tr>\n",
       "    <tr>\n",
       "      <th>2</th>\n",
       "      <td>3</td>\n",
       "      <td>2011-01-01</td>\n",
       "      <td>1</td>\n",
       "      <td>0</td>\n",
       "      <td>1</td>\n",
       "      <td>2</td>\n",
       "      <td>0</td>\n",
       "      <td>6</td>\n",
       "      <td>0</td>\n",
       "      <td>1</td>\n",
       "      <td>0.22</td>\n",
       "      <td>0.2727</td>\n",
       "      <td>0.80</td>\n",
       "      <td>0.0</td>\n",
       "      <td>5</td>\n",
       "      <td>27</td>\n",
       "      <td>32</td>\n",
       "    </tr>\n",
       "    <tr>\n",
       "      <th>3</th>\n",
       "      <td>4</td>\n",
       "      <td>2011-01-01</td>\n",
       "      <td>1</td>\n",
       "      <td>0</td>\n",
       "      <td>1</td>\n",
       "      <td>3</td>\n",
       "      <td>0</td>\n",
       "      <td>6</td>\n",
       "      <td>0</td>\n",
       "      <td>1</td>\n",
       "      <td>0.24</td>\n",
       "      <td>0.2879</td>\n",
       "      <td>0.75</td>\n",
       "      <td>0.0</td>\n",
       "      <td>3</td>\n",
       "      <td>10</td>\n",
       "      <td>13</td>\n",
       "    </tr>\n",
       "    <tr>\n",
       "      <th>4</th>\n",
       "      <td>5</td>\n",
       "      <td>2011-01-01</td>\n",
       "      <td>1</td>\n",
       "      <td>0</td>\n",
       "      <td>1</td>\n",
       "      <td>4</td>\n",
       "      <td>0</td>\n",
       "      <td>6</td>\n",
       "      <td>0</td>\n",
       "      <td>1</td>\n",
       "      <td>0.24</td>\n",
       "      <td>0.2879</td>\n",
       "      <td>0.75</td>\n",
       "      <td>0.0</td>\n",
       "      <td>0</td>\n",
       "      <td>1</td>\n",
       "      <td>1</td>\n",
       "    </tr>\n",
       "  </tbody>\n",
       "</table>\n",
       "</div>"
      ],
      "text/plain": [
       "   instant      dteday  season  yr  mnth  hr  holiday  weekday  workingday  \\\n",
       "0        1  2011-01-01       1   0     1   0        0        6           0   \n",
       "1        2  2011-01-01       1   0     1   1        0        6           0   \n",
       "2        3  2011-01-01       1   0     1   2        0        6           0   \n",
       "3        4  2011-01-01       1   0     1   3        0        6           0   \n",
       "4        5  2011-01-01       1   0     1   4        0        6           0   \n",
       "\n",
       "   weathersit  temp   atemp   hum  windspeed  casual  registered  cnt  \n",
       "0           1  0.24  0.2879  0.81        0.0       3          13   16  \n",
       "1           1  0.22  0.2727  0.80        0.0       8          32   40  \n",
       "2           1  0.22  0.2727  0.80        0.0       5          27   32  \n",
       "3           1  0.24  0.2879  0.75        0.0       3          10   13  \n",
       "4           1  0.24  0.2879  0.75        0.0       0           1    1  "
      ]
     },
     "execution_count": 4,
     "metadata": {},
     "output_type": "execute_result"
    }
   ],
   "source": [
    "import pandas as pd\n",
    "\n",
    "dataJam = pd.read_csv(\"./data/hour.csv\")\n",
    "dataJam.head()"
   ]
  },
  {
   "cell_type": "markdown",
   "metadata": {
    "id": "MMi6xGaDkbCi"
   },
   "source": [
    "**Insight:**\n",
    "- Memahami struktur data dan nama kolom.\n",
    "- Melihat apakah ada format yang aneh atau tidak sesuai."
   ]
  },
  {
   "cell_type": "markdown",
   "metadata": {
    "id": "FHSiqaZp8DC1"
   },
   "source": [
    "### Assessing Data"
   ]
  },
  {
   "cell_type": "code",
   "execution_count": 5,
   "metadata": {
    "id": "ax-3tEjc9Cj1"
   },
   "outputs": [
    {
     "data": {
      "text/plain": [
       "(instant       0\n",
       " dteday        0\n",
       " season        0\n",
       " yr            0\n",
       " mnth          0\n",
       " holiday       0\n",
       " weekday       0\n",
       " workingday    0\n",
       " weathersit    0\n",
       " temp          0\n",
       " atemp         0\n",
       " hum           0\n",
       " windspeed     0\n",
       " casual        0\n",
       " registered    0\n",
       " cnt           0\n",
       " dtype: int64,\n",
       " instant       0\n",
       " dteday        0\n",
       " season        0\n",
       " yr            0\n",
       " mnth          0\n",
       " hr            0\n",
       " holiday       0\n",
       " weekday       0\n",
       " workingday    0\n",
       " weathersit    0\n",
       " temp          0\n",
       " atemp         0\n",
       " hum           0\n",
       " windspeed     0\n",
       " casual        0\n",
       " registered    0\n",
       " cnt           0\n",
       " dtype: int64)"
      ]
     },
     "execution_count": 5,
     "metadata": {},
     "output_type": "execute_result"
    }
   ],
   "source": [
    "# assessing data => ngecheck missing values\n",
    "(data.isnull().sum(), dataJam.isnull().sum())"
   ]
  },
  {
   "cell_type": "markdown",
   "metadata": {
    "id": "7dtxhAPrkhPL"
   },
   "source": [
    "**Insight:**\n",
    "- Jika tidak ada missing values (semua 0), berarti data lengkap."
   ]
  },
  {
   "cell_type": "code",
   "execution_count": 8,
   "metadata": {
    "id": "FpA5koFdqlWO"
   },
   "outputs": [
    {
     "data": {
      "text/plain": [
       "(np.int64(0), np.int64(0))"
      ]
     },
     "execution_count": 8,
     "metadata": {},
     "output_type": "execute_result"
    }
   ],
   "source": [
    "# assessing data => ngecheck duplicate\n",
    "data.duplicated().sum(), dataJam.duplicated().sum()"
   ]
  },
  {
   "cell_type": "markdown",
   "metadata": {
    "id": "QK7Djpqkqq9a"
   },
   "source": [
    "**Insight:**\n",
    "- Jika tidak ada duplicate data (semua 0), berarti data sudah unik."
   ]
  },
  {
   "cell_type": "code",
   "execution_count": 9,
   "metadata": {
    "id": "IJlCMQDwq8Ox"
   },
   "outputs": [
    {
     "name": "stdout",
     "output_type": "stream",
     "text": [
      "Outlier di data:\n",
      "{'instant': 0, 'season': 0, 'yr': 0, 'mnth': 0, 'holiday': 21, 'weekday': 0, 'workingday': 0, 'weathersit': 0, 'temp': 0, 'atemp': 0, 'hum': 2, 'windspeed': 13, 'casual': 44, 'registered': 0, 'cnt': 0}\n",
      "\n",
      "Outlier di dataJam:\n",
      "{'instant': 0, 'season': 0, 'yr': 0, 'mnth': 0, 'hr': 0, 'holiday': 500, 'weekday': 0, 'workingday': 0, 'weathersit': 3, 'temp': 0, 'atemp': 0, 'hum': 22, 'windspeed': 342, 'casual': 1192, 'registered': 680, 'cnt': 505}\n"
     ]
    }
   ],
   "source": [
    "# assessing data => ngecheck outlier / pencilan\n",
    "import numpy as np\n",
    "\n",
    "def detect_all_outliers_iqr(data):\n",
    "    outlier_counts = {}\n",
    "\n",
    "    for column in data.select_dtypes(include=[np.number]).columns:  # Hanya kolom numerik\n",
    "        q25, q75 = np.percentile(data[column], 25), np.percentile(data[column], 75)\n",
    "        iqr = q75 - q25\n",
    "        cut_off = iqr * 1.5\n",
    "        minimum, maximum = q25 - cut_off, q75 + cut_off\n",
    "\n",
    "        outliers = data[(data[column] < minimum) | (data[column] > maximum)]\n",
    "        outlier_counts[column] = len(outliers)\n",
    "\n",
    "    return outlier_counts\n",
    "\n",
    "outliers_data = detect_all_outliers_iqr(data)\n",
    "outliers_dataJam = detect_all_outliers_iqr(dataJam)\n",
    "\n",
    "print(\"Outlier di data:\")\n",
    "print(outliers_data)\n",
    "\n",
    "print(\"\\nOutlier di dataJam:\")\n",
    "print(outliers_dataJam)"
   ]
  },
  {
   "cell_type": "markdown",
   "metadata": {
    "id": "wxiQNyc-q9Sj"
   },
   "source": [
    "hasil : Outlier di data:\n",
    "{'instant': 0, 'season': 0, 'yr': 0, 'mnth': 0, 'holiday': 21, 'weekday': 0, 'workingday': 0, 'weathersit': 0, 'temp': 0, 'atemp': 0, 'hum': 2, 'windspeed': 13, 'casual': 44, 'registered': 0, 'cnt': 0}\n",
    "\n",
    "Outlier di dataJam:\n",
    "{'instant': 0, 'season': 0, 'yr': 0, 'mnth': 0, 'hr': 0, 'holiday': 500, 'weekday': 0, 'workingday': 0, 'weathersit': 3, 'temp': 0, 'atemp': 0, 'hum': 22, 'windspeed': 342, 'casual': 1192, 'registered': 680, 'cnt': 505}"
   ]
  },
  {
   "cell_type": "markdown",
   "metadata": {
    "id": "IFrrXZhGrDXj"
   },
   "source": [
    "**Insight:**\n",
    "- Bisa melihat berapa banyak outlier di setiap kolom.\n",
    "- Bisa mengecek apakah outlier terjadi di variabel penting.\n",
    "- Jika outlier terlalu banyak, mungkin perlu dilakukan imputation"
   ]
  },
  {
   "cell_type": "markdown",
   "metadata": {
    "id": "EhN5R4hr8DC1"
   },
   "source": [
    "### Cleaning Data"
   ]
  },
  {
   "cell_type": "code",
   "execution_count": 13,
   "metadata": {
    "id": "jVnYpprE9Evz"
   },
   "outputs": [],
   "source": [
    "import pandas as pd\n",
    "import numpy as np\n",
    "\n",
    "def impute_outliers_iqr(df, column):\n",
    "    Q1 = df[column].quantile(0.25)\n",
    "    Q3 = df[column].quantile(0.75)\n",
    "    IQR = Q3 - Q1\n",
    "\n",
    "    minimum = Q1 - (1.5 * IQR)\n",
    "    maximum = Q3 + (1.5 * IQR)\n",
    "\n",
    "    minimum = np.floor(minimum) if np.issubdtype(df[column].dtype, np.integer) else minimum\n",
    "    maximum = np.ceil(maximum) if np.issubdtype(df[column].dtype, np.integer) else maximum\n",
    "\n",
    "    df.loc[df[column] > maximum, column] = maximum\n",
    "    df.loc[df[column] < minimum, column] = minimum\n",
    "\n",
    "    return df\n",
    "\n",
    "#Implutation outlier dari data Hari\n",
    "for col in data.select_dtypes(include=[float, int]).columns:\n",
    "    data = impute_outliers_iqr(data, col)\n",
    "\n",
    "#Implutation outlier dari data Jam\n",
    "for col in dataJam.select_dtypes(include=[float, int]).columns:\n",
    "    dataJam = impute_outliers_iqr(dataJam, col)\n"
   ]
  },
  {
   "cell_type": "markdown",
   "metadata": {
    "id": "Q_5ejIqckiSP"
   },
   "source": [
    "**Insight:**\n",
    "-  Setelah cleaning untuk outlier, Distribusi data lebih stabil\n",
    "- Statistik lebih seimbang\n",
    "- Penyewaan sepeda lebih mudah dianalisis\n",
    "-Data lebih siap untuk Machine Learning"
   ]
  },
  {
   "cell_type": "markdown",
   "metadata": {
    "id": "gp-Y6wU38DC1"
   },
   "source": [
    "## Exploratory Data Analysis (EDA)"
   ]
  },
  {
   "cell_type": "markdown",
   "metadata": {
    "id": "MW7WF2kr8DC1"
   },
   "source": [
    "### Explore ..."
   ]
  },
  {
   "cell_type": "code",
   "execution_count": 51,
   "metadata": {
    "id": "e9CQCZjk8DC2"
   },
   "outputs": [
    {
     "name": "stdout",
     "output_type": "stream",
     "text": [
      "📈 EDA Univariate: Statistik Deskriptif\n",
      "       instant  season     yr   mnth  holiday  weekday  workingday  \\\n",
      "count   731.00  731.00 731.00 731.00   731.00   731.00      731.00   \n",
      "mean    366.00    2.50   0.50   6.52     0.00     3.00        0.68   \n",
      "std     211.17    1.11   0.50   3.45     0.00     2.00        0.47   \n",
      "min       1.00    1.00   0.00   1.00     0.00     0.00        0.00   \n",
      "25%     183.50    2.00   0.00   4.00     0.00     1.00        0.00   \n",
      "50%     366.00    3.00   1.00   7.00     0.00     3.00        1.00   \n",
      "75%     548.50    3.00   1.00  10.00     0.00     5.00        1.00   \n",
      "max     731.00    4.00   1.00  12.00     0.00     6.00        1.00   \n",
      "\n",
      "       weathersit   temp  atemp    hum  windspeed  casual  registered     cnt  \n",
      "count      731.00 731.00 731.00 731.00     731.00  731.00      731.00  731.00  \n",
      "mean         1.40   0.50   0.47   0.63       0.19  824.40     3656.17 4504.35  \n",
      "std          0.54   0.18   0.16   0.14       0.08  623.68     1560.26 1937.21  \n",
      "min          1.00   0.06   0.08   0.20       0.02    2.00       20.00   22.00  \n",
      "25%          1.00   0.34   0.34   0.52       0.13  315.50     2497.00 3152.00  \n",
      "50%          1.00   0.50   0.49   0.63       0.18  713.00     3662.00 4548.00  \n",
      "75%          2.00   0.66   0.61   0.73       0.23 1096.00     4776.50 5956.00  \n",
      "max          3.00   0.86   0.84   0.97       0.38 2267.00     6946.00 8714.00  \n"
     ]
    }
   ],
   "source": [
    "# eksplorasi parameter statistik EDA Univariate\n",
    "print(\"📈 EDA Univariate: Statistik Deskriptif\")\n",
    "\n",
    "pd.options.display.float_format = '{:.2f}'.format\n",
    "print(numeric_data.describe())\n"
   ]
  },
  {
   "cell_type": "code",
   "execution_count": 39,
   "metadata": {},
   "outputs": [
    {
     "name": "stdout",
     "output_type": "stream",
     "text": [
      "EDA Multivariate: Identifikasi Korelasi Kuat\n",
      "             instant   season        yr     mnth  holiday  weekday  \\\n",
      "instant     1.000000      NaN  0.866025      NaN      NaN      NaN   \n",
      "season           NaN  1.00000       NaN  0.83144      NaN      NaN   \n",
      "yr          0.866025      NaN  1.000000      NaN      NaN      NaN   \n",
      "mnth             NaN  0.83144       NaN  1.00000      NaN      NaN   \n",
      "holiday          NaN      NaN       NaN      NaN      NaN      NaN   \n",
      "weekday          NaN      NaN       NaN      NaN      NaN      1.0   \n",
      "workingday       NaN      NaN       NaN      NaN      NaN      NaN   \n",
      "weathersit       NaN      NaN       NaN      NaN      NaN      NaN   \n",
      "temp             NaN      NaN       NaN      NaN      NaN      NaN   \n",
      "atemp            NaN      NaN       NaN      NaN      NaN      NaN   \n",
      "hum              NaN      NaN       NaN      NaN      NaN      NaN   \n",
      "windspeed        NaN      NaN       NaN      NaN      NaN      NaN   \n",
      "casual           NaN      NaN       NaN      NaN      NaN      NaN   \n",
      "registered  0.659623      NaN  0.594248      NaN      NaN      NaN   \n",
      "cnt         0.628830      NaN  0.566710      NaN      NaN      NaN   \n",
      "\n",
      "            workingday  weathersit      temp     atemp       hum  windspeed  \\\n",
      "instant            NaN         NaN       NaN       NaN       NaN        NaN   \n",
      "season             NaN         NaN       NaN       NaN       NaN        NaN   \n",
      "yr                 NaN         NaN       NaN       NaN       NaN        NaN   \n",
      "mnth               NaN         NaN       NaN       NaN       NaN        NaN   \n",
      "holiday            NaN         NaN       NaN       NaN       NaN        NaN   \n",
      "weekday            NaN         NaN       NaN       NaN       NaN        NaN   \n",
      "workingday    1.000000         NaN       NaN       NaN       NaN        NaN   \n",
      "weathersit         NaN    1.000000       NaN       NaN  0.601407        NaN   \n",
      "temp               NaN         NaN  1.000000  0.991702       NaN        NaN   \n",
      "atemp              NaN         NaN  0.991702  1.000000       NaN        NaN   \n",
      "hum                NaN    0.601407       NaN       NaN  1.000000        NaN   \n",
      "windspeed          NaN         NaN       NaN       NaN       NaN        1.0   \n",
      "casual       -0.515164         NaN  0.573780  0.574229       NaN        NaN   \n",
      "registered         NaN         NaN  0.540012  0.544192       NaN        NaN   \n",
      "cnt                NaN         NaN  0.627494  0.631066       NaN        NaN   \n",
      "\n",
      "              casual  registered       cnt  \n",
      "instant          NaN    0.659623  0.628830  \n",
      "season           NaN         NaN       NaN  \n",
      "yr               NaN    0.594248  0.566710  \n",
      "mnth             NaN         NaN       NaN  \n",
      "holiday          NaN         NaN       NaN  \n",
      "weekday          NaN         NaN       NaN  \n",
      "workingday -0.515164         NaN       NaN  \n",
      "weathersit       NaN         NaN       NaN  \n",
      "temp        0.573780    0.540012  0.627494  \n",
      "atemp       0.574229    0.544192  0.631066  \n",
      "hum              NaN         NaN       NaN  \n",
      "windspeed        NaN         NaN       NaN  \n",
      "casual      1.000000         NaN  0.684541  \n",
      "registered       NaN    1.000000  0.945517  \n",
      "cnt         0.684541    0.945517  1.000000  \n"
     ]
    }
   ],
   "source": [
    "# 📊 EDA Multivariate: Identifikasi Korelasi Kuat\n",
    "print(\"📊 EDA Multivariate: Identifikasi Korelasi Kuat\\n\")\n",
    "\n",
    "correlation_matrix = numeric_data.corr()\n",
    "strong_correlations = correlation_matrix[(correlation_matrix > 0.5) | (correlation_matrix < -0.5)].fillna(\"\")\n",
    "\n",
    "\n",
    "print(\"Korelasi yang lebih besar dari 0.5 atau kurang dari -0.5:\\n\")\n",
    "print(strong_correlations)\n"
   ]
  },
  {
   "cell_type": "code",
   "execution_count": 5,
   "metadata": {},
   "outputs": [
    {
     "name": "stdout",
     "output_type": "stream",
     "text": [
      "\n",
      "📉 EDA Numerikal: Ringkasan Data Numerik\n"
     ]
    },
    {
     "data": {
      "text/html": [
       "<div>\n",
       "<style scoped>\n",
       "    .dataframe tbody tr th:only-of-type {\n",
       "        vertical-align: middle;\n",
       "    }\n",
       "\n",
       "    .dataframe tbody tr th {\n",
       "        vertical-align: top;\n",
       "    }\n",
       "\n",
       "    .dataframe thead th {\n",
       "        text-align: right;\n",
       "    }\n",
       "</style>\n",
       "<table border=\"1\" class=\"dataframe\">\n",
       "  <thead>\n",
       "    <tr style=\"text-align: right;\">\n",
       "      <th></th>\n",
       "      <th>temp</th>\n",
       "      <th>hum</th>\n",
       "      <th>windspeed</th>\n",
       "      <th>casual</th>\n",
       "      <th>registered</th>\n",
       "      <th>cnt</th>\n",
       "    </tr>\n",
       "  </thead>\n",
       "  <tbody>\n",
       "    <tr>\n",
       "      <th>count</th>\n",
       "      <td>731.000000</td>\n",
       "      <td>731.000000</td>\n",
       "      <td>731.000000</td>\n",
       "      <td>731.000000</td>\n",
       "      <td>731.000000</td>\n",
       "      <td>731.000000</td>\n",
       "    </tr>\n",
       "    <tr>\n",
       "      <th>mean</th>\n",
       "      <td>0.495385</td>\n",
       "      <td>0.627894</td>\n",
       "      <td>0.190486</td>\n",
       "      <td>848.176471</td>\n",
       "      <td>3656.172367</td>\n",
       "      <td>4504.348837</td>\n",
       "    </tr>\n",
       "    <tr>\n",
       "      <th>std</th>\n",
       "      <td>0.183051</td>\n",
       "      <td>0.142429</td>\n",
       "      <td>0.077498</td>\n",
       "      <td>686.622488</td>\n",
       "      <td>1560.256377</td>\n",
       "      <td>1937.211452</td>\n",
       "    </tr>\n",
       "    <tr>\n",
       "      <th>min</th>\n",
       "      <td>0.059130</td>\n",
       "      <td>0.000000</td>\n",
       "      <td>0.022392</td>\n",
       "      <td>2.000000</td>\n",
       "      <td>20.000000</td>\n",
       "      <td>22.000000</td>\n",
       "    </tr>\n",
       "    <tr>\n",
       "      <th>25%</th>\n",
       "      <td>0.337083</td>\n",
       "      <td>0.520000</td>\n",
       "      <td>0.134950</td>\n",
       "      <td>315.500000</td>\n",
       "      <td>2497.000000</td>\n",
       "      <td>3152.000000</td>\n",
       "    </tr>\n",
       "    <tr>\n",
       "      <th>50%</th>\n",
       "      <td>0.498333</td>\n",
       "      <td>0.626667</td>\n",
       "      <td>0.180975</td>\n",
       "      <td>713.000000</td>\n",
       "      <td>3662.000000</td>\n",
       "      <td>4548.000000</td>\n",
       "    </tr>\n",
       "    <tr>\n",
       "      <th>75%</th>\n",
       "      <td>0.655417</td>\n",
       "      <td>0.730209</td>\n",
       "      <td>0.233214</td>\n",
       "      <td>1096.000000</td>\n",
       "      <td>4776.500000</td>\n",
       "      <td>5956.000000</td>\n",
       "    </tr>\n",
       "    <tr>\n",
       "      <th>max</th>\n",
       "      <td>0.861667</td>\n",
       "      <td>0.972500</td>\n",
       "      <td>0.507463</td>\n",
       "      <td>3410.000000</td>\n",
       "      <td>6946.000000</td>\n",
       "      <td>8714.000000</td>\n",
       "    </tr>\n",
       "  </tbody>\n",
       "</table>\n",
       "</div>"
      ],
      "text/plain": [
       "             temp         hum   windspeed       casual   registered  \\\n",
       "count  731.000000  731.000000  731.000000   731.000000   731.000000   \n",
       "mean     0.495385    0.627894    0.190486   848.176471  3656.172367   \n",
       "std      0.183051    0.142429    0.077498   686.622488  1560.256377   \n",
       "min      0.059130    0.000000    0.022392     2.000000    20.000000   \n",
       "25%      0.337083    0.520000    0.134950   315.500000  2497.000000   \n",
       "50%      0.498333    0.626667    0.180975   713.000000  3662.000000   \n",
       "75%      0.655417    0.730209    0.233214  1096.000000  4776.500000   \n",
       "max      0.861667    0.972500    0.507463  3410.000000  6946.000000   \n",
       "\n",
       "               cnt  \n",
       "count   731.000000  \n",
       "mean   4504.348837  \n",
       "std    1937.211452  \n",
       "min      22.000000  \n",
       "25%    3152.000000  \n",
       "50%    4548.000000  \n",
       "75%    5956.000000  \n",
       "max    8714.000000  "
      ]
     },
     "execution_count": 5,
     "metadata": {},
     "output_type": "execute_result"
    }
   ],
   "source": [
    "\n",
    "#EDA Numerikal\n",
    "import pandas as pd\n",
    "\n",
    "data = pd.read_csv(\"./data/day.csv\")\n",
    "\n",
    "print(\"\\n📉 EDA Numerikal: Ringkasan Data Numerik\")\n",
    "data[[\"temp\", \"hum\", \"windspeed\", \"casual\", \"registered\", \"cnt\"]].describe()\n",
    "\n"
   ]
  },
  {
   "cell_type": "code",
   "execution_count": 6,
   "metadata": {},
   "outputs": [
    {
     "name": "stdout",
     "output_type": "stream",
     "text": [
      "📊 EDA Kategorikal: Distribusi Data Kategori\n",
      "\n",
      "Distribusi dteday:\n",
      "dteday\n",
      "2012-12-31    1\n",
      "2011-01-01    1\n",
      "2011-01-02    1\n",
      "2011-01-03    1\n",
      "2011-01-04    1\n",
      "             ..\n",
      "2011-01-16    1\n",
      "2011-01-15    1\n",
      "2011-01-14    1\n",
      "2011-01-13    1\n",
      "2011-01-12    1\n",
      "Name: count, Length: 731, dtype: int64\n"
     ]
    }
   ],
   "source": [
    "\n",
    "# EDA Kategorikal\n",
    "print(\"📊 EDA Kategorikal: Distribusi Data Kategori\")\n",
    "categorical_cols = data.select_dtypes(include=[\"object\"]).columns\n",
    "for col in categorical_cols:\n",
    "    print(f\"\\nDistribusi {col}:\")\n",
    "    print(data[col].value_counts())\n"
   ]
  },
  {
   "cell_type": "markdown",
   "metadata": {
    "id": "th_Lzl2Fkj9O"
   },
   "source": [
    "**Insight:**\n",
    "- Dapat mengetahui rata rata penyewaan sepeda per hari dan per jam\n",
    "- Perbandingan jumlah penyewaan sepeda tergantung pada suhu dan musim\n",
    "- Pola penyewaan sepeda, apakah working day mempengaruhi secara signifikan"
   ]
  },
  {
   "cell_type": "markdown",
   "metadata": {
    "id": "zsyZjqak8DC2"
   },
   "source": [
    "## Visualization & Explanatory Analysis"
   ]
  },
  {
   "cell_type": "markdown",
   "metadata": {
    "id": "HZxOiQ6n8DC2"
   },
   "source": [
    "### Pertanyaan 1:"
   ]
  },
  {
   "cell_type": "code",
   "execution_count": 7,
   "metadata": {},
   "outputs": [
    {
     "name": "stdout",
     "output_type": "stream",
     "text": [
      "mnth\n",
      "1     2176.338710\n",
      "2     2655.298246\n",
      "3     3692.258065\n",
      "4     4484.900000\n",
      "5     5349.774194\n",
      "6     5772.366667\n",
      "7     5563.677419\n",
      "8     5664.419355\n",
      "9     5766.516667\n",
      "10    5199.225806\n",
      "11    4247.183333\n",
      "12    3403.806452\n",
      "Name: cnt, dtype: float64\n"
     ]
    }
   ],
   "source": [
    "import pandas as pd\n",
    "\n",
    "data_hari = pd.read_csv(\"./data/day.csv\")\n",
    "data_hari[\"dteday\"] = pd.to_datetime(data_hari[\"dteday\"])\n",
    "\n",
    "monthly_trend = data_hari.groupby(\"mnth\")[\"cnt\"].mean()\n",
    "print(monthly_trend)\n"
   ]
  },
  {
   "cell_type": "code",
   "execution_count": 15,
   "metadata": {
    "id": "1swJUdAD8DC2"
   },
   "outputs": [
    {
     "data": {
      "image/png": "[encoded data removed]",
      "text/plain": [
       "<Figure size 1000x500 with 1 Axes>"
      ]
     },
     "metadata": {},
     "output_type": "display_data"
    }
   ],
   "source": [
    "# Visualisasi data per bulan\n",
    "import pandas as pd\n",
    "import matplotlib.pyplot as plt\n",
    "\n",
    "data_hari = pd.read_csv(\"./data/day.csv\")\n",
    "\n",
    "data_hari[\"dteday\"] = pd.to_datetime(data_hari[\"dteday\"])\n",
    "\n",
    "monthly_trend = data_hari.groupby(\"mnth\")[\"cnt\"].mean()\n",
    "\n",
    "# Visualisasi data\n",
    "plt.figure(figsize=(10, 5))\n",
    "plt.plot(monthly_trend, marker=\"o\", linestyle=\"-\", color=\"b\")\n",
    "plt.xticks(ticks=range(1, 13), labels=[\"Jan\", \"Feb\", \"Mar\", \"Apr\", \"Mei\", \"Jun\", \"Jul\", \"Agu\", \"Sep\", \"Okt\", \"Nov\", \"Des\"])\n",
    "plt.title(\"Rata-rata Penyewaan Sepeda per Bulan\")\n",
    "plt.xlabel(\"Bulan\")\n",
    "plt.ylabel(\"Jumlah Penyewa\")\n",
    "plt.grid(True)\n",
    "plt.show()"
   ]
  },
  {
   "cell_type": "markdown",
   "metadata": {
    "id": "DgHI7CiU8DC2"
   },
   "source": [
    "### Pertanyaan 2:"
   ]
  },
  {
   "cell_type": "code",
   "execution_count": 60,
   "metadata": {},
   "outputs": [
    {
     "name": "stdout",
     "output_type": "stream",
     "text": [
      "        Rata-rata Harian  Rata-rata Per Jam\n",
      "season                                     \n",
      "Spring           2604.13             111.11\n",
      "Summer           4992.33             208.34\n",
      "Fall             5644.30             236.02\n",
      "Winter           4728.16             198.87\n"
     ]
    }
   ],
   "source": [
    "import pandas as pd\n",
    "\n",
    "df_hari = pd.read_csv(\"./data/day.csv\") \n",
    "df_jam = pd.read_csv(\"./data/hour.csv\") \n",
    "\n",
    "season_labels = {1: \"Spring\", 2: \"Summer\", 3: \"Fall\", 4: \"Winter\"}\n",
    "\n",
    "avg_users_hari = df_hari.groupby(\"season\")[\"cnt\"].mean()\n",
    "avg_users_jam = df_jam.groupby(\"season\")[\"cnt\"].mean()\n",
    "\n",
    "\n",
    "avg_users_hari.index = avg_users_hari.index.map(season_labels)\n",
    "avg_users_jam.index = avg_users_jam.index.map(season_labels)\n",
    "\n",
    "df_summary = pd.DataFrame({\n",
    "    \"Rata-rata Harian\": avg_users_hari,\n",
    "    \"Rata-rata Per Jam\": avg_users_jam\n",
    "})\n",
    "\n",
    "print(df_summary)\n"
   ]
  },
  {
   "cell_type": "code",
   "execution_count": 62,
   "metadata": {
    "colab": {
     "base_uri": "https://localhost:8080/",
     "height": 487
    },
    "id": "Go0lCsvO8DC2",
    "outputId": "e192d25f-b680-4f27-9033-075a68d90c3d"
   },
   "outputs": [
    {
     "data": {
      "image/png": "[encoded data removed]",
      "text/plain": [
       "<Figure size 1000x500 with 1 Axes>"
      ]
     },
     "metadata": {},
     "output_type": "display_data"
    }
   ],
   "source": [
    "import pandas as pd\n",
    "import matplotlib.pyplot as plt\n",
    "\n",
    "df_hari = pd.read_csv(\"./data/day.csv\")  \n",
    "df_jam = pd.read_csv(\"./data/hour.csv\")  \n",
    "\n",
    "season_labels = {1: \"Spring\", 2: \"Summer\", 3: \"Fall\", 4: \"Winter\"}\n",
    "\n",
    "avg_users_hari = df_hari.groupby(\"season\")[\"cnt\"].mean()\n",
    "avg_users_jam = df_jam.groupby(\"season\")[\"cnt\"].mean()\n",
    "\n",
    "avg_users_hari.index = avg_users_hari.index.map(season_labels)\n",
    "avg_users_jam.index = avg_users_jam.index.map(season_labels)\n",
    "\n",
    "\n",
    "plt.figure(figsize=(10, 5))\n",
    "plt.bar(avg_users_hari.index, avg_users_hari, color=\"skyblue\", alpha=0.7, label=\"Harian\")\n",
    "plt.bar(avg_users_jam.index, avg_users_jam, color=\"orange\", alpha=0.7, label=\"Per Jam\")\n",
    "\n",
    "plt.title(\"Rata-rata Penyewaan Sepeda per Musim\")\n",
    "plt.xlabel(\"Musim\")\n",
    "plt.ylabel(\"Rata-rata Pengguna Sepeda\")\n",
    "plt.legend()\n",
    "plt.show()\n",
    "  # Data harian"
   ]
  },
  {
   "cell_type": "markdown",
   "metadata": {
    "id": "WRDTp6wW_IwY"
   },
   "source": [
    "### Pertanyaan 3:"
   ]
  },
  {
   "cell_type": "code",
   "execution_count": 14,
   "metadata": {},
   "outputs": [
    {
     "name": "stdout",
     "output_type": "stream",
     "text": [
      "                 casual   registered\n",
      "workingday                          \n",
      "0           1371.134199  2959.034632\n",
      "1            606.570000  3978.250000\n"
     ]
    }
   ],
   "source": [
    "workday_effect = data_hari.groupby(\"workingday\")[[\"casual\", \"registered\"]].mean()\n",
    "print(workday_effect)\n"
   ]
  },
  {
   "cell_type": "code",
   "execution_count": 17,
   "metadata": {
    "id": "iWhnzsJGYUCO"
   },
   "outputs": [
    {
     "data": {
      "image/png": "[encoded data removed]",
      "text/plain": [
       "<Figure size 800x500 with 1 Axes>"
      ]
     },
     "metadata": {},
     "output_type": "display_data"
    }
   ],
   "source": [
    "# Visualisasi data pada workingday dan libur\n",
    "workday_effect = data_hari.groupby(\"workingday\")[[\"casual\", \"registered\"]].mean()\n",
    "\n",
    "workday_effect.plot(kind=\"bar\", stacked=True, figsize=(8, 5), color=[\"orange\", \"blue\"])\n",
    "plt.xticks(ticks=[0, 1], labels=[\"Akhir Pekan / Libur\", \"Hari Kerja\"], rotation=0)\n",
    "plt.title(\"Perbandingan Penggunaan Sepeda pada Hari Kerja dan Akhir Pekan\")\n",
    "plt.ylabel(\"Rata-rata Penyewa\")\n",
    "plt.legend([\"Casual\", \"Registered\"])\n",
    "plt.show()"
   ]
  },
  {
   "cell_type": "markdown",
   "metadata": {
    "id": "_0-36BDLklRg"
   },
   "source": [
    "**Insight:**\n",
    "- Melihat pola dan perbandingan penyewaan setiap bulannya\n",
    "- Musim yang berbeda mempengaruhi jumlah penyewa di setiap dan dan harinya\n",
    "- Pola penyewaan sepeda yang lebih tinggi pada workingday atau tidak\n",
    "- Perbandingan antara penyewa terdaftar dan tidak"
   ]
  },
  {
   "cell_type": "markdown",
   "metadata": {
    "id": "9y4VUsmcYNZ5"
   },
   "source": [
    "## Analisis Lanjutan (Opsional)"
   ]
  },
  {
   "cell_type": "code",
   "execution_count": 9,
   "metadata": {},
   "outputs": [
    {
     "name": "stdout",
     "output_type": "stream",
     "text": [
      "hr\n",
      "0      53.898072\n",
      "1      33.375691\n",
      "2      22.869930\n",
      "3      11.727403\n",
      "4       6.352941\n",
      "5      19.889819\n",
      "6      76.044138\n",
      "7     212.064649\n",
      "8     359.011004\n",
      "9     219.309491\n",
      "10    173.668501\n",
      "11    208.143054\n",
      "12    253.315934\n",
      "13    253.661180\n",
      "14    240.949246\n",
      "15    251.233196\n",
      "16    311.983562\n",
      "17    461.452055\n",
      "18    425.510989\n",
      "19    311.523352\n",
      "20    226.030220\n",
      "21    172.314560\n",
      "22    131.335165\n",
      "23     87.831044\n",
      "Name: cnt, dtype: float64\n"
     ]
    }
   ],
   "source": [
    "data_jam = pd.read_csv(\"./data/hour.csv\")\n",
    "\n",
    "hourly_trend = data_jam.groupby(\"hr\")[\"cnt\"].mean()\n",
    "print(hourly_trend)\n"
   ]
  },
  {
   "cell_type": "code",
   "execution_count": 11,
   "metadata": {
    "id": "qkKoaruf-svk"
   },
   "outputs": [
    {
     "data": {
      "image/png": "[encoded data removed]",
      "text/plain": [
       "<Figure size 1000x500 with 1 Axes>"
      ]
     },
     "metadata": {},
     "output_type": "display_data"
    }
   ],
   "source": [
    "import matplotlib.pyplot as plt\n",
    "\n",
    "data_jam = pd.read_csv(\"./data/hour.csv\")\n",
    "hourly_trend = data_jam.groupby(\"hr\")[\"cnt\"].mean()\n",
    "\n",
    "# Kapan jam sibuk penggunaan sepeda\n",
    "plt.figure(figsize=(10, 5))\n",
    "plt.plot(hourly_trend, marker=\"o\", linestyle=\"-\", color=\"g\")\n",
    "plt.xticks(ticks=range(0, 24))\n",
    "plt.title(\"Tren Penyewaan Sepeda Berdasarkan Jam\")\n",
    "plt.xlabel(\"Jam\")\n",
    "plt.ylabel(\"Jumlah Penyewa\")\n",
    "plt.grid(True)\n",
    "plt.show()\n"
   ]
  },
  {
   "cell_type": "code",
   "execution_count": 12,
   "metadata": {},
   "outputs": [
    {
     "name": "stdout",
     "output_type": "stream",
     "text": [
      "   weathersit          cnt\n",
      "0           1  4876.786177\n",
      "1           2  4035.862348\n",
      "2           3  1803.285714\n"
     ]
    }
   ],
   "source": [
    "data_hari = pd.read_csv(\"./data/day.csv\")\n",
    "weather_effect = data_hari.groupby(\"weathersit\")[\"cnt\"].mean().reset_index()\n",
    "print(weather_effect)\n"
   ]
  },
  {
   "cell_type": "code",
   "execution_count": 13,
   "metadata": {
    "id": "CZaxyCBUACFh"
   },
   "outputs": [
    {
     "data": {
      "image/png": "[encoded data removed]",
      "text/plain": [
       "<Figure size 700x500 with 1 Axes>"
      ]
     },
     "metadata": {},
     "output_type": "display_data"
    }
   ],
   "source": [
    "import seaborn as sns\n",
    "import matplotlib.pyplot as plt\n",
    "import pandas as pd\n",
    "\n",
    "data_hari = pd.read_csv(\"./data/day.csv\")\n",
    "weather_effect = data_hari.groupby(\"weathersit\")[\"cnt\"].mean().reset_index()\n",
    "\n",
    "# Visualisasi\n",
    "plt.figure(figsize=(7, 5))\n",
    "sns.barplot(x=\"weathersit\", y=\"cnt\", data=weather_effect, hue=\"weathersit\", palette=\"coolwarm\", legend=False)  # Hue ditambahkan\n",
    "plt.xticks(ticks=[0, 1, 2, 3], labels=[\"Clear\", \"Mist\", \"Light Snow/Rain\", \"Heavy Rain/Snow\"])\n",
    "plt.title(\"Pengaruh Cuaca terhadap Penyewaan Sepeda\")\n",
    "plt.ylabel(\"Rata-rata Jumlah Penyewa\")\n",
    "plt.xlabel(\"Kondisi Cuaca\")\n",
    "plt.show()\n"
   ]
  },
  {
   "cell_type": "markdown",
   "metadata": {
    "id": "_WeHlCeX8DC2"
   },
   "source": [
    "## Conclusion"
   ]
  },
  {
   "cell_type": "markdown",
   "metadata": {
    "id": "ZTcyR48Y8DC2"
   },
   "source": [
    "- rata rata penyewaan di bulan juni dan september lebih tinggi dibandingkan penyewaan di bulan lainnya dengan angka di bulan juni adalah 5772.37 dan angka dibulan september adalah 5766.52\n",
    "\n",
    "- Pada musim gugur(perhari 5644.30, perjam 236.02) dan panas ( Perhari 4992.33, perjam 208.34) jumlah penyewa lebih banyak sesuai pada statik bulan\n",
    "\n",
    "- Pada hari kerja penyewa lebih tinggi untuk yang sudah terdaftar atau langganan(3978.25), namun pada hari libur yang blm terdaftar lebih banyak, kemungkinan yang menyewa adalah pendatang atau turis (1371.13)\n",
    "\n",
    "---Pertanyaan Analisis Lanjutan---\n",
    "- Pada sore menjelang malam banyak penyewa yang kemungkinan untuk bersantai atau sekedar berjalan jalan(311.98 sampai 461.45, dari jam 4 Sore sampai 7 malam), namun di jam 8 memiliki statik penyewa yang cukup banyak (359.01) dibandingkan jam pagi lainnya yang kemungkinan adalah orang yang berangkat ke suatu tempat\n",
    "\n",
    "- Di cuaca cerah memiliki jumlah penyewa yang sangat banyak (4876.79) karena situasi cocok untuk bersepeda\n",
    "\n",
    "--- Saran untuk peningkatan penyewaan berdasarkan kesimpulan---\n",
    "- Pada priode ramai yaitu bulan Juni dan September atau Musim panas dan Musim gugur bisa diberikan promosi atay event dengan paket langganan yang dapat menarik konsumen\n",
    "- Targetkan casual atau penyewa yang tidak terdaftar dengan langganan penyewaan yang memiliki benefit baik dari segi harga (Misalnya jika melebihi syarat diskon seperti 6 kali penyewaan mendapat diskon ataupun benefit lain) ataupun fasilitas sepeda yang lebih menarik\n",
    "- untuk meningkatkan periode atau musim yang sepi, bisa diadakan kampanye seperti Event \"Bike For Fun\" di Hari Kerja dengan Kampanye ajakan bersepeda ke kantor dengan hadiah bagi peserta aktif\n",
    "- Dikarenakan cuaca dingin sepi pengunjung karena dianggap cuaca ekstrem, sediakan fasilitas seperti bagun titik-titik penyewaan dengan tempat berteduh agar pelanggan lebih nyaman ataupun aksesoris sepeda dengan ban antislip"
   ]
  }
 ],
 "metadata": {
  "colab": {
   "provenance": []
  },
  "kernelspec": {
   "display_name": "Python 3 (ipykernel)",
   "language": "python",
   "name": "python3"
  },
  "language_info": {
   "codemirror_mode": {
    "name": "ipython",
    "version": 3
   },
   "file_extension": ".py",
   "mimetype": "text/x-python",
   "name": "python",
   "nbconvert_exporter": "python",
   "pygments_lexer": "ipython3",
   "version": "3.11.4"
  },
  "vscode": {
   "interpreter": {
    "hash": "972b3bf27e332e87b5379f2791f6ef9dfc79c71018c370b0d7423235e20fe4d7"
   }
  }
 },
 "nbformat": 4,
 "nbformat_minor": 4
}
